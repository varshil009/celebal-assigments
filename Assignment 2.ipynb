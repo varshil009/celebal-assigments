{
 "cells": [
  {
   "cell_type": "markdown",
   "id": "9387ce99-115d-40c4-9ccc-7570296a10a2",
   "metadata": {},
   "source": [
    "#### Create a Python program that implements a singly linked list using Object-Oriented Programming (OOP) principles. \n",
    "Your implementation should include the following: \n",
    "- A Node class to represent each node in the list. A LinkedList class to manage the nodes, with methods to:\n",
    "  <br> Add a node to the end of the list Print the list Delete the nth node (where n is a 1-based index)\n",
    "- Include exception handling to manage edge cases such as:\n",
    "  <br> Deleting a node from an empty list Deleting a node with an index out of range Test your implementation with at least one sample list."
   ]
  },
  {
   "cell_type": "code",
   "execution_count": 42,
   "id": "aa5dfdcd-f252-4a68-9fc3-1cbf8b728667",
   "metadata": {},
   "outputs": [],
   "source": [
    "class Node:\n",
    "    def __init__(self, data):\n",
    "        self.data = data\n",
    "        self.next = None\n",
    "\n",
    "    def __repr__(self):\n",
    "        return f\"Node({self.data})\""
   ]
  },
  {
   "cell_type": "code",
   "execution_count": 40,
   "id": "4644bae3-8b30-490a-bbce-5572c53eeee9",
   "metadata": {},
   "outputs": [],
   "source": [
    "# add print delete\n",
    "class LinkedList:\n",
    "    def __init__(self):\n",
    "        self.head = None\n",
    "\n",
    "    def add(self, data):\n",
    "        # create node\n",
    "        new_node = Node(data)\n",
    "        # if head is not present then self.head returns false resulting in  not false = true\n",
    "        if not self.head:  \n",
    "            self.head = new_node\n",
    "            return\n",
    "\n",
    "        # assume current as self.head\n",
    "        current = self.head\n",
    "        \n",
    "        while current.next: # meaning until current.next exists\n",
    "            current = current.next\n",
    "        current.next = new_node\n",
    "        \n",
    "    def __str__(self):\n",
    "        # string class to print the whole linkage\n",
    "        elems = []\n",
    "        current = self.head\n",
    "        while current:\n",
    "            elems.append(str(current.data))\n",
    "            current = current.next\n",
    "        return \" -> \".join(elems) if elems else \"[empty]\"\n",
    "\n",
    "    def delete_nth(self, n):\n",
    "        # if ll is empty\n",
    "        if self.head is None:\n",
    "            raise ValueError(\"Cannot delete from an empty list.\")\n",
    "\n",
    "        # index < or = to 0 not allowed\n",
    "        if n < 1:\n",
    "            raise IndexError(\"Index must be 1 or greater.\")\n",
    "\n",
    "        # if 1 then delete self.head and return \n",
    "        if n == 1:\n",
    "            deleted_data = self.head.data\n",
    "            self.head = self.head.next\n",
    "            return deleted_data\n",
    "\n",
    "        # if n > 1 then iterate over \n",
    "        current = self.head\n",
    "        # start from 1\n",
    "        count = 1\n",
    "        \n",
    "        # (n-1) since there is curren.next in condition, so until we reach 'n' we gotta check that next element exist\n",
    "        while count < n - 1 and current.next: \n",
    "            current = current.next\n",
    "            count += 1\n",
    "\n",
    "        # if current.next doest exist then\n",
    "        if not current.next:\n",
    "            raise IndexError(\"Index out of range.\")\n",
    "\n",
    "        # when count = 1 loop breaks and comes here, the current.next is our nth element\n",
    "        deleted_data = current.next.data\n",
    "        # basically replace the place of deleted data\n",
    "        current.next = current.next.next\n",
    "        return deleted_data"
   ]
  },
  {
   "cell_type": "code",
   "execution_count": 43,
   "id": "b20ebc30-1478-4590-b621-9fcc97fbd5f2",
   "metadata": {},
   "outputs": [],
   "source": [
    "# intiate object of ll\n",
    "ll = LinkedList()"
   ]
  },
  {
   "cell_type": "code",
   "execution_count": 44,
   "id": "118991c2-9448-4853-9a03-c25a0382e822",
   "metadata": {},
   "outputs": [
    {
     "name": "stdout",
     "output_type": "stream",
     "text": [
      "Initial list: 10 -> 20 -> 30\n"
     ]
    }
   ],
   "source": [
    "# add elems\n",
    "for value in [10, 20, 30]:\n",
    "    ll.add(value)\n",
    "print(\"Initial list:\", ll)"
   ]
  },
  {
   "cell_type": "code",
   "execution_count": 45,
   "id": "c50cdd2a-160d-4de9-ae89-011d842a3082",
   "metadata": {},
   "outputs": [
    {
     "name": "stdout",
     "output_type": "stream",
     "text": [
      "Deleted node with data: 20\n",
      "List after deleting a node: 10 -> 30\n"
     ]
    }
   ],
   "source": [
    "# delete nodes\n",
    "deleted = ll.delete_nth(2)\n",
    "print(f\"Deleted node with data: {deleted}\")\n",
    "print(\"List after deleting a node:\", ll)"
   ]
  },
  {
   "cell_type": "code",
   "execution_count": 46,
   "id": "97e93e8d-e31a-48a9-b4b7-2f6c387bcf86",
   "metadata": {},
   "outputs": [
    {
     "name": "stdout",
     "output_type": "stream",
     "text": [
      "Exception : Index out of range.\n"
     ]
    }
   ],
   "source": [
    "# try deleteing index that doesnt exist\n",
    "try:\n",
    "    ll.delete_nth(5)\n",
    "except Exception as e:\n",
    "    print(f\"Exception : {e}\")"
   ]
  },
  {
   "cell_type": "code",
   "execution_count": 47,
   "id": "82cc6c44-6b1d-4ccc-865b-7dac93b328fa",
   "metadata": {},
   "outputs": [
    {
     "name": "stdout",
     "output_type": "stream",
     "text": [
      "List after deleting all nodes:\n",
      "[empty]\n"
     ]
    }
   ],
   "source": [
    "# delete the all nodes\n",
    "ll.delete_nth(1)\n",
    "ll.delete_nth(1)\n",
    "print(\"List after deleting all nodes:\")\n",
    "print(ll)"
   ]
  },
  {
   "cell_type": "code",
   "execution_count": 48,
   "id": "83bdaf9e-76f4-4356-b2c7-398500c9e222",
   "metadata": {},
   "outputs": [
    {
     "name": "stdout",
     "output_type": "stream",
     "text": [
      "Exception caught: Cannot delete from an empty list.\n"
     ]
    }
   ],
   "source": [
    "# delet from empty list\n",
    "try:\n",
    "    ll.delete_nth(1)\n",
    "except Exception as e:\n",
    "    print(f\"Exception caught: {e}\")\n"
   ]
  },
  {
   "cell_type": "code",
   "execution_count": null,
   "id": "e839a140-388c-4528-aaed-b08e6f6b32af",
   "metadata": {},
   "outputs": [],
   "source": []
  },
  {
   "cell_type": "code",
   "execution_count": null,
   "id": "5f4b4669-1dd0-4223-a51f-5a5d98178812",
   "metadata": {},
   "outputs": [],
   "source": []
  }
 ],
 "metadata": {
  "kernelspec": {
   "display_name": "dl-cuda",
   "language": "python",
   "name": "dl"
  },
  "language_info": {
   "codemirror_mode": {
    "name": "ipython",
    "version": 3
   },
   "file_extension": ".py",
   "mimetype": "text/x-python",
   "name": "python",
   "nbconvert_exporter": "python",
   "pygments_lexer": "ipython3",
   "version": "3.9.18"
  }
 },
 "nbformat": 4,
 "nbformat_minor": 5
}
