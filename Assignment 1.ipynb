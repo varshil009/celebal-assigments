{
 "cells": [
  {
   "cell_type": "code",
   "execution_count": 1,
   "id": "9eb2e7ef-9817-4cf1-bab8-8bc994e5a962",
   "metadata": {},
   "outputs": [],
   "source": [
    "n = 10"
   ]
  },
  {
   "cell_type": "markdown",
   "id": "f5aaef0b-d7f4-4d38-b4f3-0bc33b33e9cc",
   "metadata": {},
   "source": [
    "### upper traingulars"
   ]
  },
  {
   "cell_type": "code",
   "execution_count": 4,
   "id": "061cc755-c076-482c-bc99-2b82871eb85d",
   "metadata": {},
   "outputs": [
    {
     "name": "stdout",
     "output_type": "stream",
     "text": [
      "\n",
      "*\n",
      "**\n",
      "***\n",
      "****\n",
      "*****\n",
      "******\n",
      "*******\n",
      "********\n",
      "*********\n"
     ]
    }
   ],
   "source": [
    "for i in range(n):\n",
    "    print(\"*\"*i)"
   ]
  },
  {
   "cell_type": "code",
   "execution_count": 6,
   "id": "fc1bc307-3bcd-45d8-a9fd-23a9546b31a2",
   "metadata": {},
   "outputs": [
    {
     "name": "stdout",
     "output_type": "stream",
     "text": [
      "          \n",
      "         *\n",
      "        **\n",
      "       ***\n",
      "      ****\n",
      "     *****\n",
      "    ******\n",
      "   *******\n",
      "  ********\n",
      " *********\n"
     ]
    }
   ],
   "source": [
    "for i in range(n):\n",
    "    print(\" \" * (n-i) + \"*\"*i)"
   ]
  },
  {
   "cell_type": "markdown",
   "id": "f7982521-9e8f-440c-881c-94acc81d9f4f",
   "metadata": {},
   "source": [
    "### lower triangulars"
   ]
  },
  {
   "cell_type": "code",
   "execution_count": 5,
   "id": "203bde59-d32b-47b7-b3cf-fb451a4b465b",
   "metadata": {},
   "outputs": [
    {
     "name": "stdout",
     "output_type": "stream",
     "text": [
      "**********\n",
      " *********\n",
      "  ********\n",
      "   *******\n",
      "    ******\n",
      "     *****\n",
      "      ****\n",
      "       ***\n",
      "        **\n",
      "         *\n"
     ]
    }
   ],
   "source": [
    "for i in range(n):\n",
    "    print(\" \"*i + \"*\"*(n-i))"
   ]
  },
  {
   "cell_type": "code",
   "execution_count": 7,
   "id": "72d5b514-dbe3-4a6e-bd13-62957818492c",
   "metadata": {},
   "outputs": [
    {
     "name": "stdout",
     "output_type": "stream",
     "text": [
      "**********\n",
      "*********\n",
      "********\n",
      "*******\n",
      "******\n",
      "*****\n",
      "****\n",
      "***\n",
      "**\n",
      "*\n"
     ]
    }
   ],
   "source": [
    "for i in range(n):\n",
    "    print(\"*\"*(n-i))"
   ]
  },
  {
   "cell_type": "markdown",
   "id": "c50c47fc-ee6b-4961-a77e-ccc0c6aa91aa",
   "metadata": {},
   "source": [
    "# pyramid"
   ]
  },
  {
   "cell_type": "code",
   "execution_count": 10,
   "id": "5acf08ee-7539-4b70-9b60-c936855eb944",
   "metadata": {},
   "outputs": [
    {
     "name": "stdout",
     "output_type": "stream",
     "text": [
      "           *\n",
      "          ***\n",
      "         *****\n",
      "        *******\n",
      "       *********\n",
      "      ***********\n",
      "     *************\n",
      "    ***************\n",
      "   *****************\n",
      "  *******************\n",
      " *********************\n"
     ]
    }
   ],
   "source": [
    "if n % 2 == 0:\n",
    "    n = n+1\n",
    "    \n",
    "for i in range(n):\n",
    "    print(\" \" * (n-i) + \"*\" * (2*i+1))"
   ]
  },
  {
   "cell_type": "code",
   "execution_count": 26,
   "id": "1fb2df8f-2795-4f1f-a4af-981acdce40f6",
   "metadata": {},
   "outputs": [
    {
     "name": "stdout",
     "output_type": "stream",
     "text": [
      "     *\n",
      "    ***\n",
      "   *****\n",
      "  *******\n",
      " *********\n",
      "***********\n"
     ]
    }
   ],
   "source": [
    "# using only even part of i\n",
    "\n",
    "if n % 2 == 0:\n",
    "    n = n+1\n",
    "    \n",
    "for i in range(n):\n",
    "    if i %2 == 0: \n",
    "        print(\" \" * ((n-(i+1))//2) + \"*\" * (i+1))\n",
    "    else: \n",
    "        continue\n",
    "        "
   ]
  },
  {
   "cell_type": "code",
   "execution_count": 27,
   "id": "dc5fae7c-1c18-4322-a6dd-9c587dfb77b9",
   "metadata": {},
   "outputs": [
    {
     "name": "stdout",
     "output_type": "stream",
     "text": [
      "    *\n",
      "   ***\n",
      "  *****\n",
      " *******\n",
      "*********\n"
     ]
    }
   ],
   "source": [
    "# using only odd part of i\n",
    "\n",
    "if n % 2 == 0:\n",
    "    n = n+1\n",
    "    \n",
    "for i in range(n):\n",
    "    if i %2 != 0: \n",
    "        print(\" \" * ((n-(i+1))//2) + \"*\" * (i))\n",
    "    else: \n",
    "        continue"
   ]
  },
  {
   "cell_type": "code",
   "execution_count": null,
   "id": "96111be1-13bf-4d5a-bf25-bf0b18fd3d3f",
   "metadata": {},
   "outputs": [],
   "source": []
  }
 ],
 "metadata": {
  "kernelspec": {
   "display_name": "dl-cuda",
   "language": "python",
   "name": "dl"
  },
  "language_info": {
   "codemirror_mode": {
    "name": "ipython",
    "version": 3
   },
   "file_extension": ".py",
   "mimetype": "text/x-python",
   "name": "python",
   "nbconvert_exporter": "python",
   "pygments_lexer": "ipython3",
   "version": "3.9.18"
  }
 },
 "nbformat": 4,
 "nbformat_minor": 5
}
